{
 "cells": [
  {
   "cell_type": "markdown",
   "metadata": {},
   "source": [
    "# Calibration Procedure\n",
    "\n",
    "* Compute center offset:\n",
    " - Set $\\lambda_{\\rm center}$ to set of known spectral lines\n",
    " - Measure pixel position of each: \n",
    " - average each to determine central pixel $n_o$\n",
    " \n",
    "|   $\\lambda_{\\rm center}$ | Pixel |           \n",
    "| ----------------------:  |:------:|\n",
    "| 0   nm                   | 508 | \n",
    "| 445 nm                   | 6.22      |  \n",
    "| 901 nm                   | 3.1      | \n",
    "\n",
    "\n",
    " \n",
    "* Compute spectrometer calibration angles/length ($\\ f_L, \\delta, \\gamma$)\n",
    " * Move known spectral line $\\lambda_o$ to left and right sides of detector\n",
    " * record $\\lambda_{\\rm center}$ and pixel position for each \n",
    " * Compute best fit of $\\ f_{\\rm calib}$\n",
    "\n",
    "\n",
    "| $\\lambda_o$   | Side | $\\lambda_{\\rm center}$| Pixel  |\n",
    "| ------------- | ---- |:----------------------|-------:|\n",
    "| 809.4 nm      | R    |729.4910 nm            |508     |\n",
    "| 809.4 nm      | L    |899.5830 nm            |  4     |\n",
    "| ...           | ...  | ...                   |...     |\n",
    "\n"
   ]
  },
  {
   "cell_type": "markdown",
   "metadata": {},
   "source": [
    "# Optimization Function\n",
    "\n",
    "Optimize for 3 parameters:\n",
    " * $f_L$: Focal length of spectrometer\n",
    " * $\\delta$: Detector angle (The angle of the image plane relative to the plane perpendicular to the spectrograph focal axis at the center of the image plane)\n",
    " * $\\gamma$: inclusion angle\n",
    "\n",
    "from experiment:\n",
    " * $n =  n_{px} - n_o$: Pixel from central pixel\n",
    " * $\\lambda_{\\rm center}$: Wavelength of center pixel \n",
    " * $\\lambda_p$: Wavelength of pixel $n$\n",
    " \n",
    "Fixed Constants:\n",
    " * $m$: Diffraction order (typically one)\n",
    " * $x_{\\rm pixel}$: pixel size\n",
    " * $d_{grating}$: Grating pitch (1/(groves / mm))\n",
    "    \n",
    "residual: (wl,  wl_p, n, f, delta,gamma)\n",
    "\n",
    "We measure pixel position ($n$) of a known wavelength ($\\lambda_p$) for multple peaks and spectrometer positions and find the best fit parameters $\\ f_L, \\delta, \\gamma$:\n",
    "\n",
    "$$ \\lambda_p = f_{\\rm calib} ( n,  \\lambda_{\\rm center}, \n",
    "    \\underbrace{m, x_{\\rm pixel}, d_{\\rm grating}}_{\\rm spec\\ params}, \n",
    "    \\overbrace{f_L,\\ \\ \\delta,\\ \\ \\gamma}^{\\rm Calibration\\ params} ) $$\n",
    "\n",
    "$$ \\lambda_p = \\frac{d}{m} \\cdot \\left[ \\sin( \\psi - \\frac{\\gamma}{2}) + \\sin(\\psi+\\frac{\\gamma}{2} + \\eta) \\right]$$\n",
    "\n",
    "Where\n",
    "\n",
    "$$ \\psi = \\arcsin \\left[ \\frac{ m\\ \\lambda_{\\rm center} } { 2\\ d_{\\rm grating} \\cos(\\frac{\\gamma}{2})} \\right] $$\n",
    "\n",
    "$$ \\eta = \\arctan \\left[ \\frac{ n\\ x_{pixel} \\cos{\\delta}} {f_L + n\\ x_{pixel} \\sin(\\delta)} \\right]$$\n",
    "\n",
    "$$n =  n_{px} - n_o$$\n",
    "\n"
   ]
  },
  {
   "cell_type": "code",
   "metadata": {
    "jupyter": {
     "is_executing": true
    }
   },
   "source": [
    "from __future__ import division\n",
    "import numpy as np\n",
    "import  matplotlib.pyplot as plt\n",
    "from pprint import pprint\n",
    "import numpy as np\n",
    "\n",
    "%matplotlib notebook"
   ],
   "outputs": [],
   "execution_count": null
  },
  {
   "cell_type": "code",
   "metadata": {
    "jupyter": {
     "is_executing": true
    }
   },
   "source": [
    "def wl_p_calib_p2(px, n0, offset_adjust, wl_center, m_order, d_grating, x_pixel, f, delta, gamma, curvature):\n",
    "    #consts\n",
    "    #d_grating = 1./150. #mm\n",
    "    #x_pixel   = 16e-3 # mm\n",
    "    #m_order   = 1 # diffraction order, unitless\n",
    "    n = px - (n0+offset_adjust*wl_center)\n",
    "\n",
    "    psi = np.arcsin( m_order* wl_center / (2*d_grating*np.cos(gamma/2.)))\n",
    "    eta = np.arctan(n*x_pixel*np.cos(delta) / (f+n*x_pixel*np.sin(delta)))\n",
    "    \n",
    "    return ((d_grating/m_order)\n",
    "                    *(np.sin(psi-0.5*gamma)\n",
    "                      + np.sin(psi+0.5*gamma+eta))) + curvature*n**2"
   ],
   "outputs": [],
   "execution_count": null
  },
  {
   "cell_type": "code",
   "metadata": {
    "jupyter": {
     "is_executing": true
    }
   },
   "source": [
    "from scipy.optimize import least_squares\n",
    "\n",
    "def fit_residual(\n",
    "                # optimization parameters\n",
    "                opt_params, #  (f, delta, gamma, curvature)\n",
    "                # other params and data\n",
    "                px, n0, offset_adjust, wl_center, m_order, d_grating, x_pixel,\n",
    "                wl_actual\n",
    "                ):\n",
    "    \n",
    "    (f, delta, gamma, curvature) = opt_params\n",
    "    wl_model = wl_p_calib_p2(px, n0, offset_adjust, wl_center, m_order, d_grating, x_pixel, f, delta, gamma,curvature)\n",
    "    return wl_model - wl_actual"
   ],
   "outputs": [],
   "execution_count": null
  },
  {
   "cell_type": "markdown",
   "metadata": {},
   "source": [
    "# grating 1 (600 g/mm Bz 300)"
   ]
  },
  {
   "cell_type": "code",
   "metadata": {
    "jupyter": {
     "is_executing": true
    }
   },
   "source": [
    "# grating 1 (600 g/mm Bz 300)\n",
    "\n",
    "wl_center_data = np.array([\n",
    "[365.02, 508],\n",
    "[404.66, 508],\n",
    "[435.83, 508],\n",
    "[546.07, 509],\n",
    "[1013.98, 507],\n",
    "])\n",
    "    \n",
    "n0 = np.mean(wl_center_data[:,1])\n",
    "n0    \n",
    "plt.figure()\n",
    "plt.plot(wl_center_data[:,0], wl_center_data[:,1])\n",
    "plt.axhline(n0)"
   ],
   "outputs": [],
   "execution_count": null
  },
  {
   "cell_type": "code",
   "metadata": {
    "jupyter": {
     "is_executing": true
    }
   },
   "source": [
    "dispersion_data = np.array([\n",
    "#wl_actual, wl_center, pixel\n",
    "[365.02, 265.02, 905],\n",
    "[404.66, 304.66, 909],\n",
    "[435.83, 335.83, 913],\n",
    "[546.07, 446.07, 923],\n",
    "[1013.98, 913.98, 988],\n",
    "[365.02, 365.02, 508],\n",
    "[404.66, 404.66, 508],\n",
    "[435.83, 435.83, 508],\n",
    "[546.07, 546.07, 509],\n",
    "[1013.98, 1013.98, 507],\n",
    "[365.02, 465.02, 103],\n",
    "[404.66, 504.66, 100],\n",
    "[435.83, 535.83, 97],\n",
    "[546.07, 646.07, 85],\n",
    "[1013.98, 1113.98, 23],\n",
    "])\n"
   ],
   "outputs": [],
   "execution_count": null
  },
  {
   "cell_type": "code",
   "metadata": {
    "jupyter": {
     "is_executing": true
    }
   },
   "source": [
    "# MAKE SURE THE INITIAL PARAMETERS ARE GOOD !!! CHECK RESIDUAL FOR THE GOOD FITTING and adapt manually if required.\n",
    "initial_guess = (150e6,0.9,0.5,0)\n",
    "\n",
    "kwargs = dict(\n",
    "    px=dispersion_data[:,2], \n",
    "    n0=np.mean(wl_center_data[:,1]),\n",
    "    wl_center=dispersion_data[:,1], # nm\n",
    "    m_order=1,\n",
    "    d_grating=1/150.*1e6, # nm\n",
    "    x_pixel=26e3, #nm\n",
    "    wl_actual=dispersion_data[:,0], # nm\n",
    "    offset_adjust = 0\n",
    ")\n",
    "result = least_squares(fit_residual, initial_guess, kwargs=kwargs)\n",
    "result.x"
   ],
   "outputs": [],
   "execution_count": null
  },
  {
   "cell_type": "code",
   "metadata": {
    "jupyter": {
     "is_executing": true
    }
   },
   "source": [
    "kwargs = dict(\n",
    "    px=dispersion_data[:,2], \n",
    "    #px=wl_center_data[:,1],\n",
    "    n0=np.mean(wl_center_data[:,1]),\n",
    "    wl_center=dispersion_data[:,1],\n",
    "    #wl_center=wl_center_data[:,0]*1e-6,\n",
    "    m_order=1,\n",
    "    d_grating=1/150.*1e6, # nm\n",
    "    x_pixel=26e3, #nm\n",
    "    #wl_actual=dispersion_data[:,0]*1e-6,\n",
    "    f = result.x[0],\n",
    "    delta = result.x[1],\n",
    "    gamma = result.x[2],\n",
    "    offset_adjust = 0,\n",
    "    curvature = result.x[3]\n",
    ")\n",
    "\n",
    "wl_p_calib_p2(**kwargs) - dispersion_data[:,0]"
   ],
   "outputs": [],
   "execution_count": null
  },
  {
   "cell_type": "code",
   "metadata": {
    "jupyter": {
     "is_executing": true
    }
   },
   "source": [
    "# to store for ini file\n",
    "# f, delta, gamma, n0, offset_adjust, d_grating, x_pixel, curvature\n",
    "Y = 'f, delta, gamma, n0, offset_adjust, d_grating, x_pixel, curvature'.split(', ')\n",
    "str([ kwargs[x] for x in Y ])\n",
    "#kwargs"
   ],
   "outputs": [],
   "execution_count": null
  },
  {
   "cell_type": "code",
   "metadata": {
    "jupyter": {
     "is_executing": true
    }
   },
   "source": [
    "fig = plt.figure()\n",
    "f, delta, gamma, n0, offset_adjust, d_grating, x_pixel, curvature = [np.float64(330605663.74965495), np.float64(-0.20488367116307532), np.float64(2.021864300924973), np.float64(508.0), 0, 6666.666666666667, 26000.0, np.float64(3.1224154313329654e-06)]\n",
    "residual = wl_p_calib_p2(dispersion_data[:,2], n0, offset_adjust, dispersion_data[:,1], 1, d_grating, x_pixel, f, delta, gamma, curvature)-dispersion_data[:,0]\n",
    "\n",
    "#plt.plot(wl_p_calib_p2(**kwargs))\n",
    "plt.plot(residual,'.')\n",
    "plt.title(\"Fit residuals\")\n",
    "plt.show()"
   ],
   "outputs": [],
   "execution_count": null
  },
  {
   "metadata": {
    "jupyter": {
     "is_executing": true
    }
   },
   "cell_type": "code",
   "source": "",
   "outputs": [],
   "execution_count": null
  },
  {
   "metadata": {
    "jupyter": {
     "is_executing": true
    }
   },
   "cell_type": "code",
   "source": "",
   "outputs": [],
   "execution_count": null
  },
  {
   "metadata": {},
   "cell_type": "code",
   "outputs": [],
   "execution_count": null,
   "source": ""
  }
 ],
 "metadata": {
  "kernelspec": {
   "display_name": "Python 3 (Spyder)",
   "language": "python3",
   "name": "python3"
  },
  "language_info": {
   "codemirror_mode": {
    "name": "ipython",
    "version": 3
   },
   "file_extension": ".py",
   "mimetype": "text/x-python",
   "name": "python",
   "nbconvert_exporter": "python",
   "pygments_lexer": "ipython3",
   "version": "3.12.3"
  }
 },
 "nbformat": 4,
 "nbformat_minor": 4
}
